{
 "cells": [
  {
   "cell_type": "code",
   "execution_count": 1,
   "id": "531336c2-fdb1-4d6e-bf00-e4394c479e1b",
   "metadata": {},
   "outputs": [],
   "source": [
    "import time\n",
    "import numpy as np\n",
    "import pandas as pd\n",
    "import matplotlib as plt\n",
    "from sklearn.preprocessing import StandardScaler\n",
    "from sklearn.model_selection import train_test_split\n",
    "from sklearn.metrics import confusion_matrix, classification_report, f1_score, accuracy_score"
   ]
  },
  {
   "cell_type": "code",
   "execution_count": 2,
   "id": "edd4716c-d5f5-4c87-b498-fcd21440cb57",
   "metadata": {},
   "outputs": [
    {
     "name": "stdout",
     "output_type": "stream",
     "text": [
      "(7043, 21)\n",
      "   customerID  gender  SeniorCitizen Partner Dependents  tenure PhoneService  \\\n",
      "0  7590-VHVEG  Female              0     Yes         No       1           No   \n",
      "1  5575-GNVDE    Male              0      No         No      34          Yes   \n",
      "2  3668-QPYBK    Male              0      No         No       2          Yes   \n",
      "3  7795-CFOCW    Male              0      No         No      45           No   \n",
      "4  9237-HQITU  Female              0      No         No       2          Yes   \n",
      "\n",
      "      MultipleLines InternetService OnlineSecurity  ... DeviceProtection  \\\n",
      "0  No phone service             DSL             No  ...               No   \n",
      "1                No             DSL            Yes  ...              Yes   \n",
      "2                No             DSL            Yes  ...               No   \n",
      "3  No phone service             DSL            Yes  ...              Yes   \n",
      "4                No     Fiber optic             No  ...               No   \n",
      "\n",
      "  TechSupport StreamingTV StreamingMovies        Contract PaperlessBilling  \\\n",
      "0          No          No              No  Month-to-month              Yes   \n",
      "1          No          No              No        One year               No   \n",
      "2          No          No              No  Month-to-month              Yes   \n",
      "3         Yes          No              No        One year               No   \n",
      "4          No          No              No  Month-to-month              Yes   \n",
      "\n",
      "               PaymentMethod MonthlyCharges  TotalCharges Churn  \n",
      "0           Electronic check          29.85         29.85    No  \n",
      "1               Mailed check          56.95        1889.5    No  \n",
      "2               Mailed check          53.85        108.15   Yes  \n",
      "3  Bank transfer (automatic)          42.30       1840.75    No  \n",
      "4           Electronic check          70.70        151.65   Yes  \n",
      "\n",
      "[5 rows x 21 columns]\n",
      "customerID           object\n",
      "gender               object\n",
      "SeniorCitizen         int64\n",
      "Partner              object\n",
      "Dependents           object\n",
      "tenure                int64\n",
      "PhoneService         object\n",
      "MultipleLines        object\n",
      "InternetService      object\n",
      "OnlineSecurity       object\n",
      "OnlineBackup         object\n",
      "DeviceProtection     object\n",
      "TechSupport          object\n",
      "StreamingTV          object\n",
      "StreamingMovies      object\n",
      "Contract             object\n",
      "PaperlessBilling     object\n",
      "PaymentMethod        object\n",
      "MonthlyCharges      float64\n",
      "TotalCharges         object\n",
      "Churn                object\n",
      "dtype: object\n"
     ]
    }
   ],
   "source": [
    "df = pd.read_csv(\"WA_Fn-UseC_-Telco-Customer-Churn.csv\")\n",
    "\n",
    "print(df.shape)\n",
    "print(df.head())\n",
    "print(df.dtypes)"
   ]
  },
  {
   "cell_type": "code",
   "execution_count": 3,
   "id": "517fdd69-315c-4465-9232-e8059f6aa3e0",
   "metadata": {},
   "outputs": [
    {
     "data": {
      "text/plain": [
       "0      29.85\n",
       "1     1889.5\n",
       "2     108.15\n",
       "3    1840.75\n",
       "4     151.65\n",
       "Name: TotalCharges, dtype: object"
      ]
     },
     "execution_count": 3,
     "metadata": {},
     "output_type": "execute_result"
    }
   ],
   "source": [
    "df[\"TotalCharges\"].head()"
   ]
  },
  {
   "cell_type": "code",
   "execution_count": 7,
   "id": "de4c3a59-7378-4ce3-b022-b97f234c85b2",
   "metadata": {},
   "outputs": [],
   "source": [
    "df[\"TotalCharges\"] = pd.to_numeric(df[\"TotalCharges\"], errors='coerce')"
   ]
  },
  {
   "cell_type": "code",
   "execution_count": 9,
   "id": "87bec7c7-4de1-4f4a-81d3-db38fc0e42ad",
   "metadata": {},
   "outputs": [],
   "source": [
    "df.dropna(inplace=True) "
   ]
  },
  {
   "cell_type": "code",
   "execution_count": 11,
   "id": "18b81418-8d69-4dad-a547-497677d42ffa",
   "metadata": {},
   "outputs": [
    {
     "data": {
      "text/plain": [
       "(7032, 21)"
      ]
     },
     "execution_count": 11,
     "metadata": {},
     "output_type": "execute_result"
    }
   ],
   "source": [
    "df.shape"
   ]
  },
  {
   "cell_type": "code",
   "execution_count": 13,
   "id": "1451cad4-51a9-42a6-a06f-e301d2b7d2e7",
   "metadata": {},
   "outputs": [],
   "source": [
    "df.drop(\"customerID\", axis=1, inplace=True)"
   ]
  },
  {
   "cell_type": "code",
   "execution_count": 15,
   "id": "41f026b1-787b-4b00-97eb-44d2af692ab2",
   "metadata": {},
   "outputs": [],
   "source": [
    "df[\"Churn\"] = df[\"Churn\"].map({\"Yes\": 1, \"No\": 0})"
   ]
  },
  {
   "cell_type": "code",
   "execution_count": 17,
   "id": "8bcfa3f0-7238-4548-ac7b-5781a019fc63",
   "metadata": {},
   "outputs": [
    {
     "data": {
      "text/plain": [
       "0    0\n",
       "1    0\n",
       "2    1\n",
       "3    0\n",
       "4    1\n",
       "Name: Churn, dtype: int64"
      ]
     },
     "execution_count": 17,
     "metadata": {},
     "output_type": "execute_result"
    }
   ],
   "source": [
    "df[\"Churn\"].head()"
   ]
  },
  {
   "cell_type": "code",
   "execution_count": 19,
   "id": "99b655bb-239e-49db-be79-f4cba0981e7b",
   "metadata": {},
   "outputs": [
    {
     "data": {
      "text/plain": [
       "Churn\n",
       "0    0.734215\n",
       "1    0.265785\n",
       "Name: proportion, dtype: float64"
      ]
     },
     "execution_count": 19,
     "metadata": {},
     "output_type": "execute_result"
    }
   ],
   "source": [
    "df[\"Churn\"].value_counts(normalize=True)"
   ]
  },
  {
   "cell_type": "code",
   "execution_count": 21,
   "id": "7374986a-04e1-43c5-b518-71fd6fa2fa78",
   "metadata": {},
   "outputs": [],
   "source": [
    "binary_cols = [\n",
    "    \"gender\", \"Partner\", \"Dependents\",\n",
    "    \"PhoneService\", \"PaperlessBilling\"\n",
    "]\n",
    "\n",
    "multi_service_cols = [\n",
    "    \"MultipleLines\", \"OnlineSecurity\", \"OnlineBackup\",\n",
    "    \"DeviceProtection\", \"TechSupport\", \"StreamingTV\", \"StreamingMovies\"\n",
    "]\n",
    "\n",
    "multi_class_cols = [\n",
    "    \"InternetService\", \"Contract\", \"PaymentMethod\"\n",
    "]\n"
   ]
  },
  {
   "cell_type": "code",
   "execution_count": 23,
   "id": "ad6368ee-a92b-4ae7-862b-fb736ff838ac",
   "metadata": {},
   "outputs": [],
   "source": [
    "for col in binary_cols:\n",
    "    df[col] = df[col].map({\"Yes\": 1, \"No\": 0, \"Male\": 1, \"Female\": 0})\n"
   ]
  },
  {
   "cell_type": "code",
   "execution_count": 25,
   "id": "cea76c01-bf57-4989-addc-da0560751ce7",
   "metadata": {},
   "outputs": [],
   "source": [
    "for col in multi_service_cols:\n",
    "    df[col] = df[col].replace({\"No internet service\": \"No\", \"No phone service\": \"No\"})\n",
    "    df[col] = df[col].map({\"Yes\": 1, \"No\": 0})\n"
   ]
  },
  {
   "cell_type": "code",
   "execution_count": 27,
   "id": "dc04db8b-3912-46a3-b2a0-975e8514731a",
   "metadata": {},
   "outputs": [],
   "source": [
    "df = pd.get_dummies(df, columns=multi_class_cols, drop_first=True)"
   ]
  },
  {
   "cell_type": "code",
   "execution_count": 29,
   "id": "fa636d72-fcec-4e87-a79c-b58d48e18d71",
   "metadata": {},
   "outputs": [],
   "source": [
    "bool_cols = df.select_dtypes(include=[\"bool\"]).columns\n",
    "df[bool_cols] = df[bool_cols].astype(int)"
   ]
  },
  {
   "cell_type": "code",
   "execution_count": 31,
   "id": "bddbea91-6147-4055-beea-f5404ce1f6ea",
   "metadata": {},
   "outputs": [
    {
     "name": "stdout",
     "output_type": "stream",
     "text": [
      "gender                                     int64\n",
      "SeniorCitizen                              int64\n",
      "Partner                                    int64\n",
      "Dependents                                 int64\n",
      "tenure                                     int64\n",
      "PhoneService                               int64\n",
      "MultipleLines                              int64\n",
      "OnlineSecurity                             int64\n",
      "OnlineBackup                               int64\n",
      "DeviceProtection                           int64\n",
      "TechSupport                                int64\n",
      "StreamingTV                                int64\n",
      "StreamingMovies                            int64\n",
      "PaperlessBilling                           int64\n",
      "MonthlyCharges                           float64\n",
      "TotalCharges                             float64\n",
      "Churn                                      int64\n",
      "InternetService_Fiber optic                int32\n",
      "InternetService_No                         int32\n",
      "Contract_One year                          int32\n",
      "Contract_Two year                          int32\n",
      "PaymentMethod_Credit card (automatic)      int32\n",
      "PaymentMethod_Electronic check             int32\n",
      "PaymentMethod_Mailed check                 int32\n",
      "dtype: object\n"
     ]
    },
    {
     "data": {
      "text/html": [
       "<div>\n",
       "<style scoped>\n",
       "    .dataframe tbody tr th:only-of-type {\n",
       "        vertical-align: middle;\n",
       "    }\n",
       "\n",
       "    .dataframe tbody tr th {\n",
       "        vertical-align: top;\n",
       "    }\n",
       "\n",
       "    .dataframe thead th {\n",
       "        text-align: right;\n",
       "    }\n",
       "</style>\n",
       "<table border=\"1\" class=\"dataframe\">\n",
       "  <thead>\n",
       "    <tr style=\"text-align: right;\">\n",
       "      <th></th>\n",
       "      <th>gender</th>\n",
       "      <th>SeniorCitizen</th>\n",
       "      <th>Partner</th>\n",
       "      <th>Dependents</th>\n",
       "      <th>tenure</th>\n",
       "      <th>PhoneService</th>\n",
       "      <th>MultipleLines</th>\n",
       "      <th>OnlineSecurity</th>\n",
       "      <th>OnlineBackup</th>\n",
       "      <th>DeviceProtection</th>\n",
       "      <th>...</th>\n",
       "      <th>MonthlyCharges</th>\n",
       "      <th>TotalCharges</th>\n",
       "      <th>Churn</th>\n",
       "      <th>InternetService_Fiber optic</th>\n",
       "      <th>InternetService_No</th>\n",
       "      <th>Contract_One year</th>\n",
       "      <th>Contract_Two year</th>\n",
       "      <th>PaymentMethod_Credit card (automatic)</th>\n",
       "      <th>PaymentMethod_Electronic check</th>\n",
       "      <th>PaymentMethod_Mailed check</th>\n",
       "    </tr>\n",
       "  </thead>\n",
       "  <tbody>\n",
       "    <tr>\n",
       "      <th>0</th>\n",
       "      <td>0</td>\n",
       "      <td>0</td>\n",
       "      <td>1</td>\n",
       "      <td>0</td>\n",
       "      <td>1</td>\n",
       "      <td>0</td>\n",
       "      <td>0</td>\n",
       "      <td>0</td>\n",
       "      <td>1</td>\n",
       "      <td>0</td>\n",
       "      <td>...</td>\n",
       "      <td>29.85</td>\n",
       "      <td>29.85</td>\n",
       "      <td>0</td>\n",
       "      <td>0</td>\n",
       "      <td>0</td>\n",
       "      <td>0</td>\n",
       "      <td>0</td>\n",
       "      <td>0</td>\n",
       "      <td>1</td>\n",
       "      <td>0</td>\n",
       "    </tr>\n",
       "    <tr>\n",
       "      <th>1</th>\n",
       "      <td>1</td>\n",
       "      <td>0</td>\n",
       "      <td>0</td>\n",
       "      <td>0</td>\n",
       "      <td>34</td>\n",
       "      <td>1</td>\n",
       "      <td>0</td>\n",
       "      <td>1</td>\n",
       "      <td>0</td>\n",
       "      <td>1</td>\n",
       "      <td>...</td>\n",
       "      <td>56.95</td>\n",
       "      <td>1889.50</td>\n",
       "      <td>0</td>\n",
       "      <td>0</td>\n",
       "      <td>0</td>\n",
       "      <td>1</td>\n",
       "      <td>0</td>\n",
       "      <td>0</td>\n",
       "      <td>0</td>\n",
       "      <td>1</td>\n",
       "    </tr>\n",
       "    <tr>\n",
       "      <th>2</th>\n",
       "      <td>1</td>\n",
       "      <td>0</td>\n",
       "      <td>0</td>\n",
       "      <td>0</td>\n",
       "      <td>2</td>\n",
       "      <td>1</td>\n",
       "      <td>0</td>\n",
       "      <td>1</td>\n",
       "      <td>1</td>\n",
       "      <td>0</td>\n",
       "      <td>...</td>\n",
       "      <td>53.85</td>\n",
       "      <td>108.15</td>\n",
       "      <td>1</td>\n",
       "      <td>0</td>\n",
       "      <td>0</td>\n",
       "      <td>0</td>\n",
       "      <td>0</td>\n",
       "      <td>0</td>\n",
       "      <td>0</td>\n",
       "      <td>1</td>\n",
       "    </tr>\n",
       "    <tr>\n",
       "      <th>3</th>\n",
       "      <td>1</td>\n",
       "      <td>0</td>\n",
       "      <td>0</td>\n",
       "      <td>0</td>\n",
       "      <td>45</td>\n",
       "      <td>0</td>\n",
       "      <td>0</td>\n",
       "      <td>1</td>\n",
       "      <td>0</td>\n",
       "      <td>1</td>\n",
       "      <td>...</td>\n",
       "      <td>42.30</td>\n",
       "      <td>1840.75</td>\n",
       "      <td>0</td>\n",
       "      <td>0</td>\n",
       "      <td>0</td>\n",
       "      <td>1</td>\n",
       "      <td>0</td>\n",
       "      <td>0</td>\n",
       "      <td>0</td>\n",
       "      <td>0</td>\n",
       "    </tr>\n",
       "    <tr>\n",
       "      <th>4</th>\n",
       "      <td>0</td>\n",
       "      <td>0</td>\n",
       "      <td>0</td>\n",
       "      <td>0</td>\n",
       "      <td>2</td>\n",
       "      <td>1</td>\n",
       "      <td>0</td>\n",
       "      <td>0</td>\n",
       "      <td>0</td>\n",
       "      <td>0</td>\n",
       "      <td>...</td>\n",
       "      <td>70.70</td>\n",
       "      <td>151.65</td>\n",
       "      <td>1</td>\n",
       "      <td>1</td>\n",
       "      <td>0</td>\n",
       "      <td>0</td>\n",
       "      <td>0</td>\n",
       "      <td>0</td>\n",
       "      <td>1</td>\n",
       "      <td>0</td>\n",
       "    </tr>\n",
       "  </tbody>\n",
       "</table>\n",
       "<p>5 rows × 24 columns</p>\n",
       "</div>"
      ],
      "text/plain": [
       "   gender  SeniorCitizen  Partner  Dependents  tenure  PhoneService  \\\n",
       "0       0              0        1           0       1             0   \n",
       "1       1              0        0           0      34             1   \n",
       "2       1              0        0           0       2             1   \n",
       "3       1              0        0           0      45             0   \n",
       "4       0              0        0           0       2             1   \n",
       "\n",
       "   MultipleLines  OnlineSecurity  OnlineBackup  DeviceProtection  ...  \\\n",
       "0              0               0             1                 0  ...   \n",
       "1              0               1             0                 1  ...   \n",
       "2              0               1             1                 0  ...   \n",
       "3              0               1             0                 1  ...   \n",
       "4              0               0             0                 0  ...   \n",
       "\n",
       "   MonthlyCharges  TotalCharges  Churn  InternetService_Fiber optic  \\\n",
       "0           29.85         29.85      0                            0   \n",
       "1           56.95       1889.50      0                            0   \n",
       "2           53.85        108.15      1                            0   \n",
       "3           42.30       1840.75      0                            0   \n",
       "4           70.70        151.65      1                            1   \n",
       "\n",
       "   InternetService_No  Contract_One year  Contract_Two year  \\\n",
       "0                   0                  0                  0   \n",
       "1                   0                  1                  0   \n",
       "2                   0                  0                  0   \n",
       "3                   0                  1                  0   \n",
       "4                   0                  0                  0   \n",
       "\n",
       "   PaymentMethod_Credit card (automatic)  PaymentMethod_Electronic check  \\\n",
       "0                                      0                               1   \n",
       "1                                      0                               0   \n",
       "2                                      0                               0   \n",
       "3                                      0                               0   \n",
       "4                                      0                               1   \n",
       "\n",
       "   PaymentMethod_Mailed check  \n",
       "0                           0  \n",
       "1                           1  \n",
       "2                           1  \n",
       "3                           0  \n",
       "4                           0  \n",
       "\n",
       "[5 rows x 24 columns]"
      ]
     },
     "execution_count": 31,
     "metadata": {},
     "output_type": "execute_result"
    }
   ],
   "source": [
    "print(df.dtypes)\n",
    "df.head()  "
   ]
  },
  {
   "cell_type": "code",
   "execution_count": 33,
   "id": "d3303a8a-30c5-453a-bad3-35e43bc7152f",
   "metadata": {},
   "outputs": [],
   "source": [
    "X = df.drop(\"Churn\", axis=1)\n",
    "y = df[\"Churn\"]\n"
   ]
  },
  {
   "cell_type": "code",
   "execution_count": 35,
   "id": "84691fce-713b-41eb-ace1-fcb69c1cfff4",
   "metadata": {},
   "outputs": [],
   "source": [
    "X = X.astype(np.float64)  \n",
    "X_train, X_test, y_train, y_test = train_test_split(\n",
    "    X, y,\n",
    "    test_size=0.2,\n",
    "    random_state=42,\n",
    "    stratify=y\n",
    ")"
   ]
  },
  {
   "cell_type": "code",
   "execution_count": 37,
   "id": "1521e442-87f8-4a08-bda7-c39a90e44686",
   "metadata": {},
   "outputs": [],
   "source": [
    "y_train = y_train.to_numpy().reshape(-1, 1).astype(np.float64)\n",
    "y_test = y_test.to_numpy().reshape(-1, 1).astype(np.float64)"
   ]
  },
  {
   "cell_type": "code",
   "execution_count": 39,
   "id": "9aaa2876-81ba-4aec-9790-2c0b76dc6254",
   "metadata": {},
   "outputs": [],
   "source": [
    "scaler = StandardScaler()\n",
    "X_train_scaled = scaler.fit_transform(X_train)\n",
    "X_test_scaled = scaler.transform(X_test)"
   ]
  },
  {
   "cell_type": "code",
   "execution_count": 41,
   "id": "28cf49f8-814c-45f1-bc95-94d4704116de",
   "metadata": {},
   "outputs": [],
   "source": [
    "X_train_bias = np.c_[np.ones(X_train_scaled.shape[0], dtype=np.float64), X_train_scaled]\n",
    "X_test_bias = np.c_[np.ones(X_test_scaled.shape[0], dtype=np.float64), X_test_scaled]"
   ]
  },
  {
   "cell_type": "code",
   "execution_count": 43,
   "id": "415b0d02-5bd3-4eef-9b71-a1bbc0453f54",
   "metadata": {},
   "outputs": [],
   "source": [
    "n_features_plus_1 = X_train_bias.shape[1]\n",
    "weights_initial = np.random.rand(n_features_plus_1, 1).astype(np.float64) * 0.01"
   ]
  },
  {
   "cell_type": "code",
   "execution_count": 45,
   "id": "08063bf6-ba41-4dbe-bc2f-43a6791b8d4d",
   "metadata": {},
   "outputs": [],
   "source": [
    "def sigmoid(z):\n",
    "    z_clipped = np.clip(z, -250, 250)\n",
    "    return 1 / (1 + np.exp(-z_clipped))"
   ]
  },
  {
   "cell_type": "code",
   "execution_count": 47,
   "id": "eec664d8-a59a-4963-9401-55b227403e9c",
   "metadata": {},
   "outputs": [],
   "source": [
    "def compute_cost(X, y, W):\n",
    "    m = X.shape[0]\n",
    "    Z = np.dot(X, W)          \n",
    "    y_pred = sigmoid(Z)        \n",
    "\n",
    "    epsilon = 1e-9\n",
    "    cost = - (1 / m) * np.sum(\n",
    "        y * np.log(y_pred + epsilon) + (1 - y) * np.log(1 - y_pred + epsilon)\n",
    "    )\n",
    "    return cost"
   ]
  },
  {
   "cell_type": "code",
   "execution_count": 49,
   "id": "413eb3d5-48cf-4d7b-b182-e2b278c87008",
   "metadata": {},
   "outputs": [],
   "source": [
    "def gradient_descent(X, y, W, learning_rate=0.001, n_steps=10000, print_cost=True):\n",
    "    X = X.astype(np.float64)\n",
    "    y = y.astype(np.float64)\n",
    "    W = W.astype(np.float64)\n",
    "    m = X.shape[0]\n",
    "\n",
    "    start_time = time.time()\n",
    "    for i in range(n_steps):\n",
    "        Z = np.dot(X, W)           \n",
    "        y_pred = sigmoid(Z)        \n",
    "        gradient = (1 / m) * np.dot(X.T, (y_pred - y))  # shape: (n_features+1,1)\n",
    "        W -= learning_rate * gradient\n",
    "\n",
    "        if print_cost and i % 400 == 0:\n",
    "            c = compute_cost(X, y, W)\n",
    "            print(f\"Step {i}: Cost = {c:.6f}\")\n",
    "            \n",
    "    end_time = time.time()\n",
    "    training_time = end_time - start_time\n",
    "    \n",
    "    return W, training_time"
   ]
  },
  {
   "cell_type": "code",
   "execution_count": 51,
   "id": "f6d3ab4a-170b-4cb4-a9c7-bbe58cfa7a53",
   "metadata": {},
   "outputs": [
    {
     "name": "stdout",
     "output_type": "stream",
     "text": [
      "Step 0: Cost = 0.697475\n",
      "Step 400: Cost = 0.629748\n",
      "Step 800: Cost = 0.585822\n",
      "Step 1200: Cost = 0.555600\n",
      "Step 1600: Cost = 0.533621\n",
      "Step 2000: Cost = 0.516886\n",
      "Step 2400: Cost = 0.503676\n",
      "Step 2800: Cost = 0.492957\n",
      "Step 3200: Cost = 0.484072\n",
      "Step 3600: Cost = 0.476586\n",
      "Step 4000: Cost = 0.470199\n",
      "Step 4400: Cost = 0.464695\n",
      "Step 4800: Cost = 0.459911\n",
      "Step 5200: Cost = 0.455727\n",
      "Step 5600: Cost = 0.452046\n",
      "Step 6000: Cost = 0.448792\n",
      "Step 6400: Cost = 0.445903\n",
      "Step 6800: Cost = 0.443328\n",
      "Step 7200: Cost = 0.441025\n",
      "Step 7600: Cost = 0.438958\n",
      "Step 8000: Cost = 0.437099\n",
      "Step 8400: Cost = 0.435421\n",
      "Step 8800: Cost = 0.433903\n",
      "Step 9200: Cost = 0.432526\n",
      "Step 9600: Cost = 0.431275\n"
     ]
    }
   ],
   "source": [
    "weights_final, train_time = gradient_descent(\n",
    "    X_train_bias, \n",
    "    y_train, \n",
    "    weights_initial,\n",
    "    learning_rate=0.001, \n",
    "    n_steps=10000, \n",
    "    print_cost=True\n",
    ")"
   ]
  },
  {
   "cell_type": "code",
   "execution_count": 53,
   "id": "b19d4398-a022-4955-ab5e-b5cd69ed6887",
   "metadata": {},
   "outputs": [],
   "source": [
    "def predict(X, W, threshold=0.5):\n",
    "    Z = np.dot(X, W)\n",
    "    probs = sigmoid(Z)\n",
    "    return (probs >= threshold).astype(int)"
   ]
  },
  {
   "cell_type": "code",
   "execution_count": 55,
   "id": "cafd09ec-4928-4721-bccc-2b6de73ea226",
   "metadata": {},
   "outputs": [],
   "source": [
    "# y_pred_train = predict(X_train_bias, weights_final)\n",
    "start_pred_time = time.time()\n",
    "y_pred_test = predict(X_test_bias, weights_final)\n",
    "end_pred_time = time.time()\n",
    "prediction_time = (end_pred_time - start_pred_time) * 1000"
   ]
  },
  {
   "cell_type": "code",
   "execution_count": 57,
   "id": "3e3a6a0b-4ffc-4fd9-8ced-c4b92d2025eb",
   "metadata": {},
   "outputs": [
    {
     "name": "stdout",
     "output_type": "stream",
     "text": [
      "Confusion Matrix (sklearn):\n",
      "[[897 136]\n",
      " [151 223]]\n",
      "\n",
      "Classification Report (Manual):\n",
      "              precision    recall  f1-score   support\n",
      "\n",
      "         0.0       0.86      0.87      0.86      1033\n",
      "         1.0       0.62      0.60      0.61       374\n",
      "\n",
      "    accuracy                           0.80      1407\n",
      "   macro avg       0.74      0.73      0.74      1407\n",
      "weighted avg       0.79      0.80      0.79      1407\n",
      "\n",
      "\n",
      "Accuracy (manual): 0.7960\n",
      "F1 Score (manual): 0.6085\n",
      "\n",
      "Training Time (manual): 1.311875 seconds\n",
      "Prediction Time multiplied by 100 (manual): 1.149893 seconds\n"
     ]
    }
   ],
   "source": [
    "cm = confusion_matrix(y_test, y_pred_test)\n",
    "print(\"Confusion Matrix (sklearn):\")\n",
    "print(cm)\n",
    "\n",
    "report = classification_report(y_test, y_pred_test)\n",
    "print(\"\\nClassification Report (Manual):\")\n",
    "print(report)\n",
    "\n",
    "acc = accuracy_score(y_test, y_pred_test)\n",
    "f1 = f1_score(y_test, y_pred_test)\n",
    "print(f\"\\nAccuracy (manual): {acc:.4f}\")\n",
    "print(f\"F1 Score (manual): {f1:.4f}\")\n",
    "\n",
    "print(f\"\\nTraining Time (manual): {train_time:.6f} seconds\")\n",
    "print(f\"Prediction Time multiplied by 100 (manual): {prediction_time:.6f} seconds\")"
   ]
  },
  {
   "cell_type": "code",
   "execution_count": null,
   "id": "bc725a72-45a9-4edc-bfd7-1b35af34c0be",
   "metadata": {},
   "outputs": [],
   "source": []
  },
  {
   "cell_type": "code",
   "execution_count": null,
   "id": "0ee6798e-fc1c-4a27-b62f-fb136b797491",
   "metadata": {},
   "outputs": [],
   "source": []
  }
 ],
 "metadata": {
  "kernelspec": {
   "display_name": "Python 3 (ipykernel)",
   "language": "python",
   "name": "python3"
  },
  "language_info": {
   "codemirror_mode": {
    "name": "ipython",
    "version": 3
   },
   "file_extension": ".py",
   "mimetype": "text/x-python",
   "name": "python",
   "nbconvert_exporter": "python",
   "pygments_lexer": "ipython3",
   "version": "3.11.9"
  }
 },
 "nbformat": 4,
 "nbformat_minor": 5
}
