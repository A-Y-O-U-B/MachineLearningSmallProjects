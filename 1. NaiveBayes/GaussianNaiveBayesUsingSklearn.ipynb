{
 "cells": [
  {
   "cell_type": "code",
   "execution_count": 418,
   "id": "94443ec6-a900-45fd-ac1c-78100443da7d",
   "metadata": {},
   "outputs": [],
   "source": [
    "# ============================\n",
    "# 1) GaussianNB Using sklearn\n",
    "# ============================"
   ]
  },
  {
   "cell_type": "code",
   "execution_count": 420,
   "id": "318c8bb3-3998-4d2c-a175-c3c45578abd1",
   "metadata": {},
   "outputs": [],
   "source": [
    "import time\n",
    "import pandas as pd\n",
    "import matplotlib.pyplot as plt\n",
    "from matplotlib.colors import ListedColormap\n",
    "from sklearn.model_selection import train_test_split\n",
    "from sklearn.naive_bayes import GaussianNB\n",
    "from sklearn.metrics import confusion_matrix, classification_report, accuracy_score"
   ]
  },
  {
   "cell_type": "code",
   "execution_count": 422,
   "id": "ac394746-020b-4918-a262-915bbdbb2ef9",
   "metadata": {},
   "outputs": [],
   "source": [
    "df = pd.read_csv('data.csv')\n",
    "columns_to_drop = []\n",
    "if 'id' in df.columns:\n",
    "    columns_to_drop.append('id')\n",
    "if 'Unnamed: 32' in df.columns:\n",
    "    columns_to_drop.append('Unnamed: 32')\n",
    "df.drop(columns=columns_to_drop, inplace=True, errors='ignore')\n",
    "df['diagnosis'] = df['diagnosis'].map({'M': 1, 'B': 0})"
   ]
  },
  {
   "cell_type": "code",
   "execution_count": 424,
   "id": "17114cf1-8f3c-42b3-ade2-ecc268276a89",
   "metadata": {},
   "outputs": [],
   "source": [
    "X = df.drop('diagnosis', axis=1).values\n",
    "y = df['diagnosis'].values\n",
    "X_train, X_test, y_train, y_test = train_test_split(X, y, test_size=0.21, random_state=42, stratify=y)"
   ]
  },
  {
   "cell_type": "code",
   "execution_count": 434,
   "id": "6bcdc310-d080-4e8e-be4b-11c4abcc4631",
   "metadata": {},
   "outputs": [],
   "source": [
    "startTime = time.time()\n",
    "classifier = GaussianNB()\n",
    "classifier.fit(X_train, y_train)\n",
    "y_pred = classifier.predict(X_test)\n",
    "endTime = time.time()\n",
    "totalTime = endTime - startTime"
   ]
  },
  {
   "cell_type": "code",
   "execution_count": 436,
   "id": "1509222f-81fe-4e04-b3c7-5c9b7dfe1e5d",
   "metadata": {},
   "outputs": [],
   "source": [
    "accuracy = accuracy_score(y_test, y_pred)\n",
    "conf_mat = confusion_matrix(y_test, y_pred)\n",
    "class_report = classification_report(y_test, y_pred)"
   ]
  },
  {
   "cell_type": "code",
   "execution_count": 438,
   "id": "b8f8acc5-fd6c-4618-9df7-b77a28e9107f",
   "metadata": {},
   "outputs": [
    {
     "name": "stdout",
     "output_type": "stream",
     "text": [
      "Accuracy: 0.9417\n",
      "Confusion Matrix:\n",
      "[[75  0]\n",
      " [ 7 38]]\n",
      "\n",
      "Classification Report:\n",
      "              precision    recall  f1-score   support\n",
      "\n",
      "           0       0.91      1.00      0.96        75\n",
      "           1       1.00      0.84      0.92        45\n",
      "\n",
      "    accuracy                           0.94       120\n",
      "   macro avg       0.96      0.92      0.94       120\n",
      "weighted avg       0.95      0.94      0.94       120\n",
      "\n",
      "\n",
      "Total time : 0.002002\n"
     ]
    }
   ],
   "source": [
    "print(f\"Accuracy: {accuracy:.4f}\")\n",
    "print(\"Confusion Matrix:\")\n",
    "print(conf_mat)\n",
    "print(\"\\nClassification Report:\")\n",
    "print(class_report)\n",
    "print(f\"\\nTotal time : {totalTime:.6f}\")"
   ]
  },
  {
   "cell_type": "code",
   "execution_count": 432,
   "id": "4e017422-633d-427b-b3be-5d756682e12b",
   "metadata": {},
   "outputs": [
    {
     "data": {
      "image/png": "[encoded data removed]",
      "text/plain": [
       "<Figure size 640x480 with 2 Axes>"
      ]
     },
     "metadata": {},
     "output_type": "display_data"
    }
   ],
   "source": [
    "plt.imshow(cm)\n",
    "plt.title(\"Confusion Matrix\")\n",
    "plt.colorbar()\n",
    "plt.xlabel(\"Predicted Label\")\n",
    "plt.ylabel(\"True Label\")\n",
    "\n",
    "class_labels = [0, 1]\n",
    "plt.xticks(np.arange(len(class_labels)), class_labels)\n",
    "plt.yticks(np.arange(len(class_labels)), class_labels)\n",
    "\n",
    "for i in range(cm.shape[0]):\n",
    "    for j in range(cm.shape[1]):\n",
    "        plt.text(j, i, str(cm[i, j]),\n",
    "                 ha=\"center\", va=\"center\")\n",
    "plt.show()"
   ]
  },
  {
   "cell_type": "code",
   "execution_count": null,
   "id": "bdd58077-bb54-40e1-a272-08acb34057f6",
   "metadata": {},
   "outputs": [],
   "source": []
  }
 ],
 "metadata": {
  "kernelspec": {
   "display_name": "Python 3 (ipykernel)",
   "language": "python",
   "name": "python3"
  },
  "language_info": {
   "codemirror_mode": {
    "name": "ipython",
    "version": 3
   },
   "file_extension": ".py",
   "mimetype": "text/x-python",
   "name": "python",
   "nbconvert_exporter": "python",
   "pygments_lexer": "ipython3",
   "version": "3.11.9"
  }
 },
 "nbformat": 4,
 "nbformat_minor": 5
}
